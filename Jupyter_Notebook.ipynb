{
 "cells": [
  {
   "cell_type": "markdown",
   "metadata": {},
   "source": [
    "<center>\n",
    "    <img src=\"https://cf-courses-data.s3.us.cloud-object-storage.appdomain.cloud/IBMDeveloperSkillsNetwork-DS0105EN-SkillsNetwork/labs/Module2/images/SN_web_lightmode.png\" width=\"300\" alt=\"cognitiveclass.ai logo\">\n",
    "</center>\n"
   ]
  },
  {
   "cell_type": "code",
   "execution_count": null,
   "metadata": {},
   "outputs": [],
   "source": [
    "# Data Science Final Project Notebook\n"
   ]
  },
  {
   "cell_type": "markdown",
   "metadata": {},
   "source": [
    "# Data Science Final Project Notebook\n"
   ]
  },
  {
   "cell_type": "code",
   "execution_count": null,
   "metadata": {},
   "outputs": [],
   "source": [
    "## Introduction  \n",
    "This notebook contains exercises to demonstrate skills in markdown, Python coding, and sharing notebooks via GitHub. The tasks are part of a data science project.\n"
   ]
  },
  {
   "cell_type": "markdown",
   "metadata": {},
   "source": [
    "## Introduction  \n",
    "This notebook contains exercises to demonstrate skills in markdown, Python coding, and sharing notebooks via GitHub. The tasks are part of a data science project.\n"
   ]
  },
  {
   "cell_type": "code",
   "execution_count": null,
   "metadata": {},
   "outputs": [],
   "source": [
    "## Data Science Languages  \n",
    "Some of the commonly used programming languages for data science include:  \n",
    "- Python  \n",
    "- R  \n",
    "- SQL  \n",
    "- Julia  \n",
    "- Java  \n"
   ]
  },
  {
   "cell_type": "markdown",
   "metadata": {},
   "source": [
    "## Data Science Languages  \n",
    "Some of the commonly used programming languages for data science include:  \n",
    "- Python  \n",
    "- R  \n",
    "- SQL  \n",
    "- Julia  \n",
    "- Java  \n"
   ]
  },
  {
   "cell_type": "code",
   "execution_count": null,
   "metadata": {},
   "outputs": [],
   "source": [
    "## Data Science Libraries  \n",
    "Popular libraries used in data science are:  \n",
    "- NumPy  \n",
    "- Pandas  \n",
    "- Matplotlib  \n",
    "- Scikit-learn  \n",
    "- TensorFlow  \n",
    "- PyTorch  \n"
   ]
  },
  {
   "cell_type": "markdown",
   "metadata": {},
   "source": [
    "## Data Science Libraries  \n",
    "Popular libraries used in data science are:  \n",
    "- NumPy  \n",
    "- Pandas  \n",
    "- Matplotlib  \n",
    "- Scikit-learn  \n",
    "- TensorFlow  \n",
    "- PyTorch  \n"
   ]
  },
  {
   "cell_type": "code",
   "execution_count": null,
   "metadata": {},
   "outputs": [],
   "source": [
    "## Data Science Tools  \n",
    "| Tool            | Description                    |  \n",
    "|-----------------|--------------------------------|  \n",
    "| Jupyter Notebook| Interactive environment for coding and documentation |  \n",
    "| RStudio         | IDE for R programming         |  \n",
    "| Apache Hadoop   | Big data processing framework |  \n",
    "| TensorFlow      | Machine learning framework    |  \n"
   ]
  },
  {
   "cell_type": "markdown",
   "metadata": {},
   "source": [
    "## Data Science Tools  \n",
    "| Tool            | Description                    |  \n",
    "|-----------------|--------------------------------|  \n",
    "| Jupyter Notebook| Interactive environment for coding and documentation |  \n",
    "| RStudio         | IDE for R programming         |  \n",
    "| Apache Hadoop   | Big data processing framework |  \n",
    "| TensorFlow      | Machine learning framework    |  \n"
   ]
  },
  {
   "cell_type": "markdown",
   "metadata": {},
   "source": [
    "## Data science Tools\n",
    "| Tools          | Description               |\n",
    "|----------------|---------------------------|\n",
    "| Rstudio        | IDE                       | "
   ]
  },
  {
   "cell_type": "code",
   "execution_count": null,
   "metadata": {},
   "outputs": [],
   "source": [
    "## Arithmetic Expression Examples  \n",
    "This section demonstrates basic arithmetic operations like addition, subtraction, multiplication, and division.\n"
   ]
  },
  {
   "cell_type": "markdown",
   "metadata": {},
   "source": [
    "##  Arithmetic Expression Examples  \n",
    "This section demonstrates basic arithmetic operations like addition, subtraction, multiplication, and division.\n"
   ]
  },
  {
   "cell_type": "code",
   "execution_count": 4,
   "metadata": {},
   "outputs": [
    {
     "name": "stdout",
     "output_type": "stream",
     "text": [
      "37\n"
     ]
    }
   ],
   "source": [
    "x=7\n",
    "y=5\n",
    "ans=(x*y)+2 \n",
    "print(ans) "
   ]
  },
  {
   "cell_type": "code",
   "execution_count": 5,
   "metadata": {},
   "outputs": [
    {
     "name": "stdout",
     "output_type": "stream",
     "text": [
      "hours 2.6666666666666665\n"
     ]
    }
   ],
   "source": [
    "min=160\n",
    "hours = min/60\n",
    "print(\"hours\",hours)"
   ]
  },
  {
   "cell_type": "code",
   "execution_count": null,
   "metadata": {},
   "outputs": [],
   "source": [
    "## Objectives  \n",
    "- Learn how to use markdown cells effectively  \n",
    "- Practice basic Python programming  \n",
    "- Understand how to share notebooks via GitHub  \n",
    "- Create well-documented projects for data science  \n",
    "- Demonstrate arithmetic operations in code  \n"
   ]
  },
  {
   "cell_type": "code",
   "execution_count": null,
   "metadata": {},
   "outputs": [],
   "source": [
    "## Unordered list\n",
    "- First\n",
    "- Second"
   ]
  },
  {
   "cell_type": "markdown",
   "metadata": {},
   "source": [
    "## Unordered list\n",
    "- First\n",
    "- Second"
   ]
  },
  {
   "cell_type": "markdown",
   "metadata": {},
   "source": [
    "## Author  \n",
    "Name:Vasundhara Gadakh  \n"
   ]
  },
  {
   "cell_type": "markdown",
   "metadata": {},
   "source": [
    "## Author  \n",
    "Name:Vasundhara Gadakh  \n"
   ]
  },
  {
   "cell_type": "code",
   "execution_count": null,
   "metadata": {},
   "outputs": [],
   "source": []
  }
 ],
 "metadata": {
  "kernelspec": {
   "display_name": "Python 3 (ipykernel)",
   "language": "python",
   "name": "python3"
  },
  "language_info": {
   "codemirror_mode": {
    "name": "ipython",
    "version": 3
   },
   "file_extension": ".py",
   "mimetype": "text/x-python",
   "name": "python",
   "nbconvert_exporter": "python",
   "pygments_lexer": "ipython3",
   "version": "3.11.9"
  }
 },
 "nbformat": 4,
 "nbformat_minor": 4
}
